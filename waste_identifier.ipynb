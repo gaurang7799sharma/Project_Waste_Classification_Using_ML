{
 "cells": [
  {
   "cell_type": "code",
   "execution_count": 4,
   "id": "52382522",
   "metadata": {
    "tags": []
   },
   "outputs": [
    {
     "name": "stdout",
     "output_type": "stream",
     "text": [
      "Found 22564 images belonging to 2 classes.\n",
      "Found 2513 images belonging to 2 classes.\n",
      "Epoch 1/10\n",
      "705/705 [==============================] - 534s 754ms/step - loss: 0.4280 - accuracy: 0.8108\n",
      "Epoch 2/10\n",
      "705/705 [==============================] - 502s 712ms/step - loss: 0.3663 - accuracy: 0.8439\n",
      "Epoch 3/10\n",
      "705/705 [==============================] - 507s 718ms/step - loss: 0.3493 - accuracy: 0.8533\n",
      "Epoch 4/10\n",
      "705/705 [==============================] - 478s 678ms/step - loss: 0.3291 - accuracy: 0.8633\n",
      "Epoch 5/10\n",
      "705/705 [==============================] - 469s 665ms/step - loss: 0.3121 - accuracy: 0.8728\n",
      "Epoch 6/10\n",
      "705/705 [==============================] - 470s 666ms/step - loss: 0.2997 - accuracy: 0.8768\n",
      "Epoch 7/10\n",
      "705/705 [==============================] - 467s 662ms/step - loss: 0.2875 - accuracy: 0.8823\n",
      "Epoch 8/10\n",
      "705/705 [==============================] - 460s 652ms/step - loss: 0.2733 - accuracy: 0.8899\n",
      "Epoch 9/10\n",
      "705/705 [==============================] - 455s 644ms/step - loss: 0.2619 - accuracy: 0.8937\n",
      "Epoch 10/10\n",
      "705/705 [==============================] - 455s 645ms/step - loss: 0.2531 - accuracy: 0.8986\n",
      "78/78 [==============================] - 14s 170ms/step - loss: 0.3067 - accuracy: 0.8910\n",
      "Test Accuracy: 89.10%\n"
     ]
    },
    {
     "name": "stderr",
     "output_type": "stream",
     "text": [
      "C:\\Users\\Aman Yadav\\anaconda3\\Lib\\site-packages\\keras\\src\\engine\\training.py:3103: UserWarning: You are saving your model as an HDF5 file via `model.save()`. This file format is considered legacy. We recommend using instead the native Keras format, e.g. `model.save('my_model.keras')`.\n",
      "  saving_api.save_model(\n"
     ]
    }
   ],
   "source": [
    "# Import necessary libraries\n",
    "import tensorflow as tf\n",
    "from tensorflow.keras.preprocessing.image import ImageDataGenerator\n",
    "from tensorflow.keras.models import Sequential\n",
    "from tensorflow.keras.layers import Conv2D, MaxPooling2D, Flatten, Dense\n",
    "\n",
    "# Set the path to your dataset\n",
    "train_data_dir = r'C:\\Users\\Aman Yadav\\Downloads\\organic_recycable\\DATASET\\DATASET\\TRAIN'\n",
    "test_data_dir = r'C:\\Users\\Aman Yadav\\Downloads\\organic_recycable\\DATASET\\DATASET\\TEST'\n",
    "\n",
    "# Image parameters\n",
    "img_width, img_height = 150, 150\n",
    "input_shape = (img_width, img_height, 3)\n",
    "batch_size = 32\n",
    "\n",
    "# Data augmentation for the training set\n",
    "train_datagen = ImageDataGenerator(\n",
    "    rescale=1.0/255,\n",
    "    shear_range=0.2,\n",
    "    zoom_range=0.2,\n",
    "    horizontal_flip=True\n",
    ")\n",
    "\n",
    "# Rescale the validation and test sets\n",
    "test_datagen = ImageDataGenerator(rescale=1.0/255)\n",
    "\n",
    "# Load and augment the training data\n",
    "train_generator = train_datagen.flow_from_directory(\n",
    "    train_data_dir,\n",
    "    target_size=(img_width, img_height),\n",
    "    batch_size=batch_size,\n",
    "    class_mode='categorical',  # 'categorical' for more than two classes\n",
    "    shuffle=True\n",
    ")\n",
    "\n",
    "\n",
    "# Load the test data\n",
    "test_generator = test_datagen.flow_from_directory(\n",
    "    test_data_dir,\n",
    "    target_size=(img_width, img_height),\n",
    "    batch_size=batch_size,\n",
    "    class_mode='categorical',\n",
    "    shuffle=False\n",
    ")\n",
    "\n",
    "# Build the CNN model\n",
    "model = Sequential()\n",
    "model.add(Conv2D(32, (3, 3), input_shape=input_shape, activation='relu'))\n",
    "model.add(MaxPooling2D(pool_size=(2, 2)))\n",
    "\n",
    "model.add(Conv2D(64, (3, 3), activation='relu'))\n",
    "model.add(MaxPooling2D(pool_size=(2, 2)))\n",
    "\n",
    "model.add(Conv2D(128, (3, 3), activation='relu'))\n",
    "model.add(MaxPooling2D(pool_size=(2, 2)))\n",
    "\n",
    "model.add(Flatten())\n",
    "model.add(Dense(128, activation='relu'))\n",
    "model.add(Dense(2, activation='softmax'))  # Two output neurons for two classes\n",
    "\n",
    "# Compile the model\n",
    "model.compile(optimizer='adam', loss='categorical_crossentropy', metrics=['accuracy'])\n",
    "\n",
    "# Train the model\n",
    "model.fit(\n",
    "    train_generator,\n",
    "    steps_per_epoch=train_generator.samples // batch_size,\n",
    "    epochs=10\n",
    ")\n",
    "\n",
    "# Evaluate the model on the test set\n",
    "test_loss, test_accuracy = model.evaluate(test_generator, steps=test_generator.samples // batch_size)\n",
    "print(f'Test Accuracy: {test_accuracy * 100:.2f}%')\n",
    "\n",
    "# Save the model\n",
    "model.save('waste_classification_model_recyclable_organic.h5')\n"
   ]
  },
  {
   "cell_type": "code",
   "execution_count": 6,
   "id": "e5fe8d04-7f11-485e-a166-ac8eba21c055",
   "metadata": {
    "tags": []
   },
   "outputs": [
    {
     "name": "stdout",
     "output_type": "stream",
     "text": [
      "1/1 [==============================] - 0s 260ms/step\n",
      "Predicted Waste Type: Recyclable with confidence: 98.24%\n"
     ]
    }
   ],
   "source": [
    "import tensorflow as tf\n",
    "from tensorflow.keras.preprocessing import image\n",
    "import numpy as np\n",
    "\n",
    "# Load the trained model\n",
    "model = tf.keras.models.load_model('waste_classification_model_recyclable_organic.h5')\n",
    "\n",
    "# Function to preprocess an image for prediction\n",
    "def preprocess_image(image_path):\n",
    "    img = image.load_img(image_path, target_size=(150, 150))\n",
    "    img_array = image.img_to_array(img)\n",
    "    img_array = np.expand_dims(img_array, axis=0)\n",
    "    img_array /= 255.0  # Rescale pixel values to [0, 1]\n",
    "    return img_array\n",
    "\n",
    "# Function to predict waste type\n",
    "def predict_waste_type(image_path):\n",
    "    img_array = preprocess_image(image_path)\n",
    "    prediction = model.predict(img_array)\n",
    "    waste_type = \"Organic\" if prediction[0][0] > 0.5 else \"Recyclable\"\n",
    "    confidence = prediction[0][0] if waste_type == \"Organic\" else 1 - prediction[0][0]\n",
    "    return waste_type, confidence\n",
    "\n",
    "# Example usage:\n",
    "image_path = r'C:\\Users\\Aman Yadav\\Downloads\\organic_recycable\\DATASET\\DATASET\\TEST\\R\\R_11088.jpg'\n",
    "waste_type, confidence = predict_waste_type(image_path)\n",
    "print(f'Predicted Waste Type: {waste_type} with confidence: {confidence:.2%}')\n"
   ]
  },
  {
   "cell_type": "code",
   "execution_count": null,
   "id": "203ae987-fca6-4361-9ad7-315170677408",
   "metadata": {},
   "outputs": [],
   "source": []
  }
 ],
 "metadata": {
  "kernelspec": {
   "display_name": "Python 3 (ipykernel)",
   "language": "python",
   "name": "python3"
  },
  "language_info": {
   "codemirror_mode": {
    "name": "ipython",
    "version": 3
   },
   "file_extension": ".py",
   "mimetype": "text/x-python",
   "name": "python",
   "nbconvert_exporter": "python",
   "pygments_lexer": "ipython3",
   "version": "3.11.5"
  }
 },
 "nbformat": 4,
 "nbformat_minor": 5
}
